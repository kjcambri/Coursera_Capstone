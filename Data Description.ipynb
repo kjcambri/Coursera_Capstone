{
 "cells": [
  {
   "cell_type": "markdown",
   "metadata": {},
   "source": [
    "## Battle of the Neighbourhoods | Data Description\n",
    "### Data:\n",
    "Data Link: https://en.wikipedia.org/wiki/List_of_postal_codes_of_Canada:_M\n",
    "\n",
    "The targeted neighbourhood will be Scarborough which was previously scrapped during the Week 3 Assignement, this dataset included coordinates and zip codes.\n",
    "\n",
    "## Foursquare API Data:\n",
    "Foursquare is a data provider which has information on the areas of interest, such information include: locations; photos; coordinates and venue names. Therefore; this project will utilize the Foursquare API data to analyse different venues in different neighbourhoods of the Scarborough.\n",
    "\n",
    "The data chosen to be retrieved from the Foursquare API data source is as follows:\n",
    "\n",
    "Neighborhood Name\n",
    "Neighborhood Latitude\n",
    "Neighborhood Longitude\n",
    "Venue\n",
    "Name of the venue e.g. the name of a store or restaurant\n",
    "Venue Category"
   ]
  },
  {
   "cell_type": "code",
   "execution_count": null,
   "metadata": {},
   "outputs": [],
   "source": []
  }
 ],
 "metadata": {
  "kernelspec": {
   "display_name": "Python 3",
   "language": "python",
   "name": "python3"
  },
  "language_info": {
   "codemirror_mode": {
    "name": "ipython",
    "version": 3
   },
   "file_extension": ".py",
   "mimetype": "text/x-python",
   "name": "python",
   "nbconvert_exporter": "python",
   "pygments_lexer": "ipython3",
   "version": "3.8.5"
  }
 },
 "nbformat": 4,
 "nbformat_minor": 4
}
