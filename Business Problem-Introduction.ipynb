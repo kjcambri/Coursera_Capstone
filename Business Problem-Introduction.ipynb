{
 "cells": [
  {
   "cell_type": "markdown",
   "metadata": {},
   "source": [
    "# Business Problem & Introduction\n",
    "### Introduction\n",
    "The project goal is to compare the neighbourhoods accross Scarborough - Toronto, in order to select the best neighbourhood for customer purposes.\n",
    "\n",
    "A lot of people relocate every yeaar and this project will assist them in choosing the best neighbourhood in Toronto for their needs. This project will analyse and compare a number of features for those moving to Scarborough, Toronto. These features include crime rates, emergency management, median housing price, school ratings, recreational facilities, road connectivity, weather conditions, water resources as well as wastewater conveyed."
   ]
  },
  {
   "cell_type": "markdown",
   "metadata": {},
   "source": [
    "### Problems being targeted:\n",
    "Since this project tries to help individuals moving to a new neighbourhood by objectively comparing areas in a city and deeming the best one, certain data commonly analysed by people migrating will be targeted such as:\n",
    "\n",
    "A list of available homes and their houseing prices.\n",
    "A list of newaby schools; including their ratings, location and etc.\n",
    "\n",
    "### Foursquare:\n",
    "This project will use the Four-square API as data gathering source since it has a large database of various places, in addition the Foursquare API provides the ability to perform location searches, location sharing and details about a business.\n",
    "\n",
    "### Libraries which wll be used in the Project:\n",
    "Pandas: For creating and manipulating dataframes.\n",
    "\n",
    "Folium: Python visualization library would be used to visualize the neighborhoods cluster distribution of using interactive leaflet map.\n",
    "\n",
    "Matplotlib: Python Plotting Module.\n",
    "\n",
    "Beautiful Soup and Requests: To scrap and library to handle http requests.\n",
    "\n",
    "Scikit Learn: For importing k-means clustering.\n",
    "\n",
    "HTML: To separate data from presentation and HTML stores data in plain text format.\n",
    "\n",
    "Geocoder: To retrieve Location Data."
   ]
  },
  {
   "cell_type": "code",
   "execution_count": null,
   "metadata": {},
   "outputs": [],
   "source": []
  }
 ],
 "metadata": {
  "kernelspec": {
   "display_name": "Python 3",
   "language": "python",
   "name": "python3"
  },
  "language_info": {
   "codemirror_mode": {
    "name": "ipython",
    "version": 3
   },
   "file_extension": ".py",
   "mimetype": "text/x-python",
   "name": "python",
   "nbconvert_exporter": "python",
   "pygments_lexer": "ipython3",
   "version": "3.8.5"
  }
 },
 "nbformat": 4,
 "nbformat_minor": 4
}
